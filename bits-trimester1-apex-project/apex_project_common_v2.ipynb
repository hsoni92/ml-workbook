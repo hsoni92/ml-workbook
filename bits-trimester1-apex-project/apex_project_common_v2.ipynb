{
  "cells": [
    {
      "cell_type": "code",
      "execution_count": null,
      "metadata": {
        "id": "bHD3MHS4mFKK"
      },
      "outputs": [
        {
          "ename": "",
          "evalue": "",
          "output_type": "error",
          "traceback": [
            "\u001b[1;31mRunning cells with 'Python 3.13.4' requires the ipykernel package.\n",
            "\u001b[1;31m<a href='command:jupyter.createPythonEnvAndSelectController'>Create a Python Environment</a> with the required packages.\n",
            "\u001b[1;31mOr install 'ipykernel' using the command: '/opt/homebrew/bin/python3 -m pip install ipykernel -U --user --force-reinstall'"
          ]
        }
      ],
      "source": [
        "# Step 1: Install Kaggle API\n",
        "!pip install -q kaggle\n",
        "\n",
        "# Step 2: Create kaggle.json with your credentials\n",
        "import json\n",
        "import os\n",
        "\n",
        "kaggle_token = {\n",
        "    \"username\": \"himanshusoni001\",\n",
        "    \"key\": \"7888d0ba07df9b4b51271fe3c97fac80\"\n",
        "}\n",
        "\n",
        "# Write the token to the correct location\n",
        "os.makedirs('/root/.kaggle', exist_ok=True)\n",
        "with open('/root/.kaggle/kaggle.json', 'w') as f:\n",
        "    json.dump(kaggle_token, f)\n",
        "\n",
        "# Set permission\n",
        "!chmod 600 /root/.kaggle/kaggle.json"
      ]
    },
    {
      "cell_type": "code",
      "execution_count": null,
      "metadata": {
        "colab": {
          "base_uri": "https://localhost:8080/"
        },
        "id": "W4lLmeVxHC9z",
        "outputId": "2543cbac-2d54-491a-d02a-90adb2979e04"
      },
      "outputs": [],
      "source": [
        "# Step 3: Download dataset using Kaggle API\n",
        "!kaggle competitions download -c house-prices-advanced-regression-techniques\n",
        "\n",
        "# Step 4: Unzip the downloaded dataset\n",
        "!unzip -o house-prices-advanced-regression-techniques.zip"
      ]
    },
    {
      "cell_type": "code",
      "execution_count": null,
      "metadata": {
        "colab": {
          "base_uri": "https://localhost:8080/",
          "height": 533
        },
        "id": "OZNLlRPBm6zF",
        "outputId": "d9534155-e45a-4807-accb-33d385c43c23"
      },
      "outputs": [],
      "source": [
        "# Step 5: Load and use the dataset\n",
        "import pandas as pd\n",
        "import numpy as np\n",
        "import matplotlib.pyplot as plt\n",
        "import seaborn as sns\n",
        "\n",
        "data = pd.read_csv('train.csv')\n",
        "\n",
        "# Optional: Preview data\n",
        "data.head()"
      ]
    },
    {
      "cell_type": "code",
      "execution_count": null,
      "metadata": {
        "colab": {
          "base_uri": "https://localhost:8080/",
          "height": 760
        },
        "id": "n4_nFF6krIRM",
        "outputId": "0fd50815-1667-4885-8a84-52e4552a6530"
      },
      "outputs": [],
      "source": [
        "data.tail(10)"
      ]
    },
    {
      "cell_type": "markdown",
      "metadata": {
        "id": "c69nsIfoZJN4"
      },
      "source": [
        "#                    **DATA AUDIT AND AVAILABILITY CHECK**"
      ]
    },
    {
      "cell_type": "code",
      "execution_count": null,
      "metadata": {
        "colab": {
          "base_uri": "https://localhost:8080/"
        },
        "id": "6OQTWWhVZdwj",
        "outputId": "c5945b0f-9f41-47a7-d8db-82a60d2deaa1"
      },
      "outputs": [],
      "source": [
        "# 1. Shape of the dataset\n",
        "print(\"\\nShape of dataset:\", data.shape)\n"
      ]
    },
    {
      "cell_type": "code",
      "execution_count": null,
      "metadata": {
        "colab": {
          "base_uri": "https://localhost:8080/"
        },
        "id": "FavRAeEIaJU-",
        "outputId": "5426834c-c591-4bcf-ad47-cb16df365d13"
      },
      "outputs": [],
      "source": [
        "# 2. Data types of each column\n",
        "print(\"\\nData types of each column:\")\n",
        "print(data.dtypes)"
      ]
    },
    {
      "cell_type": "code",
      "execution_count": null,
      "metadata": {
        "colab": {
          "base_uri": "https://localhost:8080/"
        },
        "id": "Eroc6QJ4aNNH",
        "outputId": "11699403-52c5-4121-b8e8-967370af5ef1"
      },
      "outputs": [],
      "source": [
        "# 3. Missing values per column\n",
        "print(\"\\nMissing values per column:\")\n",
        "print(data.isnull().sum())"
      ]
    },
    {
      "cell_type": "code",
      "execution_count": null,
      "metadata": {
        "colab": {
          "base_uri": "https://localhost:8080/"
        },
        "id": "1BIEX1pdaXgE",
        "outputId": "1c29be1c-3e69-4306-fb8a-ee7e2c96524c"
      },
      "outputs": [],
      "source": [
        "# 4. Data Information\n",
        "data.info()"
      ]
    },
    {
      "cell_type": "code",
      "execution_count": null,
      "metadata": {
        "colab": {
          "base_uri": "https://localhost:8080/"
        },
        "id": "chwHpa9Qahr9",
        "outputId": "b37b04c6-8f5b-471d-dfe7-1a451067bb41"
      },
      "outputs": [],
      "source": [
        "# 5. Check for negative or invalid values\n",
        "numeric_cols = data.select_dtypes(include=[np.number]).columns.tolist()\n",
        "print(numeric_cols)\n",
        "print(\"\\nNegative values:\")\n",
        "for col in numeric_cols:\n",
        "    if (data[col] < 0).any():\n",
        "        print(f\"\\033[91mColumn '{col}' has negative values.\\033[0m\")\n",
        "        print(data[data[col] < 0][[col]])\n",
        "    else:\n",
        "        print(f\"\\033[92mColumn '{col}' has no negative values.\\033[0m\")"
      ]
    },
    {
      "cell_type": "code",
      "execution_count": null,
      "metadata": {
        "colab": {
          "base_uri": "https://localhost:8080/"
        },
        "id": "5reXiGh1bG2w",
        "outputId": "f34f4138-f20e-4a82-ee6d-08044a8a49b8"
      },
      "outputs": [],
      "source": [
        "# 6. Duplicate rows\n",
        "print(\"\\nNumber of duplicate rows:\", data.duplicated().sum())"
      ]
    },
    {
      "cell_type": "markdown",
      "metadata": {
        "id": "Z2b4khmYbmD6"
      },
      "source": [
        "# **EXPLORATORY DATA ANALYSIS**"
      ]
    },
    {
      "cell_type": "code",
      "execution_count": null,
      "metadata": {
        "colab": {
          "base_uri": "https://localhost:8080/"
        },
        "id": "lmhYWmupbYbc",
        "outputId": "587ad4f1-d6b8-4187-ab77-5f8d2205ebf0"
      },
      "outputs": [],
      "source": [
        "#Summary statistics for numeric columns\n",
        "print(\"\\nSummary statistics:\")\n",
        "print(data.describe())"
      ]
    },
    {
      "cell_type": "code",
      "execution_count": null,
      "metadata": {
        "colab": {
          "base_uri": "https://localhost:8080/"
        },
        "id": "EHiMF75Ybt0F",
        "outputId": "42ec8eba-3036-4dc3-a37a-46ca6654d83e"
      },
      "outputs": [],
      "source": [
        "#Summary statistics for categorical columns\n",
        "for col in data.columns:\n",
        "    if (data[col].dtype=='object'):\n",
        "        print(f\"\\n{col}:\")\n",
        "        print(data[col].value_counts())\n",
        "    else:\n",
        "        pass"
      ]
    },
    {
      "cell_type": "code",
      "execution_count": null,
      "metadata": {
        "colab": {
          "base_uri": "https://localhost:8080/"
        },
        "id": "OfZxRyf4cfGg",
        "outputId": "2b15f216-49e5-4822-9ad4-30293b73945a"
      },
      "outputs": [],
      "source": [
        "# Calculate average property prices across neighborhoods\n",
        "average_price_by_neighborhood = data.groupby('Neighborhood')['SalePrice'].mean().sort_values()\n",
        "\n",
        "# Identify the most affordable neighborhoods\n",
        "affordable_neighborhoods = average_price_by_neighborhood.head(5)\n",
        "\n",
        "# Identify the most expensive neighborhoods\n",
        "expensive_neighborhoods = average_price_by_neighborhood.tail(5)\n",
        "\n",
        "# Average property size and price by building type\n",
        "average_size_and_price = data.groupby('BldgType')[['GrLivArea', 'SalePrice']].mean()\n",
        "\n",
        "# Average price by overall quality\n",
        "average_price_by_quality = data.groupby('OverallQual')['SalePrice'].mean().sort_values()\n",
        "\n",
        "print(\"Average Price by Neighborhood:\")\n",
        "print(average_price_by_neighborhood)\n",
        "\n",
        "print(\"\\nMost Affordable Neighborhoods:\")\n",
        "print(affordable_neighborhoods)\n",
        "\n",
        "print(\"\\nMost Expensive Neighborhoods:\")\n",
        "print(expensive_neighborhoods)\n",
        "\n",
        "print(\"\\nAverage Living Area and Price by Building Type:\")\n",
        "print(average_size_and_price)\n",
        "\n",
        "print(\"\\nAverage Price by Overall Quality:\")\n",
        "print(average_price_by_quality)"
      ]
    },
    {
      "cell_type": "code",
      "execution_count": null,
      "metadata": {
        "colab": {
          "base_uri": "https://localhost:8080/",
          "height": 1000
        },
        "id": "XjiMMqvEev_Q",
        "outputId": "316afcee-07f5-4535-dbdb-bba6473ddaf7"
      },
      "outputs": [],
      "source": [
        "# UNIVARIATE VISUALISATION\n",
        "for col in numeric_cols:\n",
        "    plt.figure(figsize=(6,4))\n",
        "    sns.histplot(data[col], kde=True, bins=20, color='skyblue')\n",
        "    plt.title(f'Histogram & KDE of {col}')\n",
        "    plt.xlabel(col)\n",
        "    plt.ylabel('Frequency')\n",
        "    plt.show()"
      ]
    },
    {
      "cell_type": "code",
      "execution_count": null,
      "metadata": {
        "colab": {
          "base_uri": "https://localhost:8080/",
          "height": 806
        },
        "id": "DH34o1HUfrWg",
        "outputId": "78ab99b5-29c5-47e9-951a-ac0a3ff7cadf"
      },
      "outputs": [],
      "source": [
        "# Correlation heat map\n",
        "numeric_data = data.select_dtypes(include=[np.number])\n",
        "plt.figure(figsize=(12, 8))\n",
        "sns.heatmap(numeric_data.corr(), annot=True, cmap='coolwarm')\n",
        "plt.title('Correlation Heatmap')\n",
        "plt.show()"
      ]
    },
    {
      "cell_type": "code",
      "execution_count": null,
      "metadata": {
        "colab": {
          "base_uri": "https://localhost:8080/",
          "height": 638
        },
        "id": "lW39EPRbhGDn",
        "outputId": "99667e0f-61c3-4c86-abe1-3213ef361f3e"
      },
      "outputs": [],
      "source": [
        "#BIVARIATE VISUALISATION\n",
        "# Average price by Neighborhood\n",
        "plt.figure(figsize=(15, 6))\n",
        "sns.pointplot(x=data['Neighborhood'], y=data['SalePrice'], errorbar=None)\n",
        "plt.xticks(rotation=90)\n",
        "plt.title('Average Sale Price by Neighborhood')\n",
        "plt.ylabel('Sale Price')\n",
        "plt.xlabel('Neighborhood')\n",
        "plt.tight_layout()\n",
        "plt.show()"
      ]
    },
    {
      "cell_type": "code",
      "execution_count": null,
      "metadata": {
        "colab": {
          "base_uri": "https://localhost:8080/",
          "height": 639
        },
        "id": "LifmTDFMhXzp",
        "outputId": "493a81aa-cf23-4a55-e089-4da37ab05a32"
      },
      "outputs": [],
      "source": [
        "# Average price by Overall Quality\n",
        "plt.figure(figsize=(10, 6))\n",
        "sns.pointplot(x=data['OverallQual'], y=data['SalePrice'], errorbar=None)\n",
        "plt.title('Average Sale Price by Overall Quality')\n",
        "plt.ylabel('Sale Price')\n",
        "plt.xlabel('Overall Quality')\n",
        "plt.tight_layout()\n",
        "plt.show()"
      ]
    },
    {
      "cell_type": "code",
      "execution_count": null,
      "metadata": {
        "colab": {
          "base_uri": "https://localhost:8080/",
          "height": 553
        },
        "id": "-bq_WUqahhHQ",
        "outputId": "58bc2adf-9294-4c75-ed33-4207face7b38"
      },
      "outputs": [],
      "source": [
        "# Average price by Building Type\n",
        "plt.figure(figsize=(10, 6))\n",
        "sns.pointplot(x=data['BldgType'], y=data['SalePrice'], errorbar=None)\n",
        "plt.title('Average Sale Price by Building Type')\n",
        "plt.ylabel('Sale Price')\n",
        "plt.xlabel('Building Type')\n",
        "plt.tight_layout()\n",
        "plt.show()"
      ]
    },
    {
      "cell_type": "markdown",
      "metadata": {
        "id": "E-YV8Cu1iGiC"
      },
      "source": [
        "# **DATA CLEANING**"
      ]
    },
    {
      "cell_type": "code",
      "execution_count": null,
      "metadata": {
        "colab": {
          "base_uri": "https://localhost:8080/",
          "height": 504
        },
        "id": "OFcy9HoziKo2",
        "outputId": "1b084b32-aa79-46f6-ab81-fe92aafbc1f5"
      },
      "outputs": [],
      "source": [
        "# Handle missing values\n",
        "# First, let's identify columns with high missing percentages (>50%)\n",
        "missing_pct = (data.isnull().sum() / len(data)) * 100\n",
        "high_missing = missing_pct[missing_pct > 50].index.tolist()\n",
        "print(f\"Columns with >50% missing values: {high_missing}\")\n",
        "\n",
        "# Drop columns with high missing percentages and the Id column\n",
        "columns_to_drop = ['Id'] + high_missing\n",
        "datan = data.drop(columns=columns_to_drop, errors='ignore').copy()\n",
        "\n",
        "# Handle missing values in remaining columns\n",
        "# For numerical columns: impute with median\n",
        "numeric_cols_with_missing = datan.select_dtypes(include=[np.number]).columns[datan.select_dtypes(include=[np.number]).isnull().any()].tolist()\n",
        "for col in numeric_cols_with_missing:\n",
        "    datan.loc[:, col] = datan[col].fillna(datan[col].median())\n",
        "\n",
        "# For categorical columns: impute with mode or 'None' for meaningful features\n",
        "categorical_cols_with_missing = datan.select_dtypes(include=['object']).columns[datan.select_dtypes(include=['object']).isnull().any()].tolist()\n",
        "for col in categorical_cols_with_missing:\n",
        "    # For features where 'None' is meaningful (e.g., no garage, no basement)\n",
        "    if col in ['GarageType', 'GarageFinish', 'GarageQual', 'GarageCond', \n",
        "               'BsmtQual', 'BsmtCond', 'BsmtExposure', 'BsmtFinType1', 'BsmtFinType2',\n",
        "               'FireplaceQu', 'Fence', 'MiscFeature']:\n",
        "        datan.loc[:, col] = datan[col].fillna('None')\n",
        "    else:\n",
        "        datan.loc[:, col] = datan[col].fillna(datan[col].mode()[0])\n",
        "\n",
        "print(f\"\\nShape after cleaning: {datan.shape}\")\n",
        "print(f\"Remaining missing values: {datan.isnull().sum().sum()}\")\n",
        "datan.head()"
      ]
    },
    {
      "cell_type": "code",
      "execution_count": null,
      "metadata": {
        "colab": {
          "base_uri": "https://localhost:8080/"
        },
        "id": "AdWwembIj1B4",
        "outputId": "fe0cb8e4-0b67-4e56-bb64-0d9ab3e7df14"
      },
      "outputs": [],
      "source": [
        "# OUTLIER DETECTION\n",
        "numeric_col = datan.select_dtypes(include=['int64', 'float64']).columns\n",
        "outlier_indices = {}\n",
        "\n",
        "for col in numeric_col:\n",
        "    Q1 = datan[col].quantile(0.25)\n",
        "    Q3 = datan[col].quantile(0.75)\n",
        "    IQR = Q3 - Q1\n",
        "\n",
        "    lower_bound = Q1 - 1.5 * IQR\n",
        "    upper_bound = Q3 + 1.5 * IQR\n",
        "\n",
        "    # Identify outliers\n",
        "    outliers = datan[(datan[col] < lower_bound) | (datan[col] > upper_bound)]\n",
        "    outlier_indices[col] = outliers.index.tolist()\n",
        "\n",
        "    if len(outliers) > 0:\n",
        "        print(f\"{col}: {len(outliers)} outliers\")\n",
        "\n",
        "print(f\"\\nTotal columns checked: {len(numeric_col)}\")"
      ]
    },
    {
      "cell_type": "markdown",
      "metadata": {
        "id": "gevmF6D9l-I5"
      },
      "source": [
        "# Note: Outliers found but not removing them as they may be legitimate high-value properties\n",
        "# For house price prediction, extreme values can be real luxury homes"
      ]
    },
    {
      "cell_type": "markdown",
      "metadata": {
        "id": "v_R-q5X7jFkE"
      },
      "source": [
        "# **FEATURE ENGINEERING**"
      ]
    },
    {
      "cell_type": "code",
      "execution_count": null,
      "metadata": {
        "colab": {
          "base_uri": "https://localhost:8080/"
        },
        "id": "jOfajkyMjEC6",
        "outputId": "482f8f61-4487-4f28-c00c-a765f6f8c3b1"
      },
      "outputs": [],
      "source": [
        "# CREATE NEW FEATURES FROM EXISTING COLUMNS\n",
        "\n",
        "# 1. Total Square Footage\n",
        "datan['TotalSF'] = datan['TotalBsmtSF'] + datan['1stFlrSF'] + datan['2ndFlrSF']\n",
        "\n",
        "# 2. Property Age (from year sold)\n",
        "datan['PropertyAge'] = datan['YrSold'] - datan['YearBuilt']\n",
        "\n",
        "# 3. Years Since Remodel\n",
        "datan['RemodAge'] = datan['YrSold'] - datan['YearRemodAdd']\n",
        "\n",
        "# 4. Binary features - Has Garage\n",
        "datan['HasGarage'] = (datan['GarageArea'] > 0).astype(int)\n",
        "\n",
        "# 5. Binary features - Has Basement\n",
        "datan['HasBasement'] = (datan['TotalBsmtSF'] > 0).astype(int)\n",
        "\n",
        "# 6. Binary features - Has Fireplace\n",
        "datan['HasFireplace'] = (datan['Fireplaces'] > 0).astype(int)\n",
        "\n",
        "# 7. Binary features - Has 2nd Floor\n",
        "datan['Has2ndFloor'] = (datan['2ndFlrSF'] > 0).astype(int)\n",
        "\n",
        "# 8. Quality Score (interaction feature)\n",
        "datan['QualityScore'] = datan['OverallQual'] * datan['OverallCond']\n",
        "\n",
        "# 9. Total Bathrooms\n",
        "datan['TotalBath'] = datan['FullBath'] + 0.5 * datan['HalfBath'] + datan['BsmtFullBath'] + 0.5 * datan['BsmtHalfBath']\n",
        "\n",
        "# 10. Total Porch Area\n",
        "datan['TotalPorchSF'] = datan['OpenPorchSF'] + datan['EnclosedPorch'] + datan['3SsnPorch'] + datan['ScreenPorch']\n",
        "\n",
        "print(\"New features created:\")\n",
        "print(\"TotalSF, PropertyAge, RemodAge, HasGarage, HasBasement, HasFireplace,\")\n",
        "print(\"Has2ndFloor, QualityScore, TotalBath, TotalPorchSF\")\n",
        "print(f\"\\nUpdated shape: {datan.shape}\")\n",
        "datan[['TotalSF', 'PropertyAge', 'RemodAge', 'HasGarage', 'HasBasement', 'QualityScore', 'TotalBath']].head()"
      ]
    },
    {
      "cell_type": "code",
      "execution_count": null,
      "metadata": {
        "colab": {
          "base_uri": "https://localhost:8080/"
        },
        "id": "uBHMerLrm3tj",
        "outputId": "d153c71f-6006-4dba-a6fe-4bdf371150c4"
      },
      "outputs": [],
      "source": [
        "# One-hot encode categorical variables\n",
        "# Select only categorical columns\n",
        "categorical_cols = datan.select_dtypes(include=['object']).columns.tolist()\n",
        "\n",
        "# Limit to important categorical features to avoid too many dummy variables\n",
        "important_categoricals = ['Neighborhood', 'BldgType', 'HouseStyle', 'ExterQual', 'ExterCond',\n",
        "                          'Foundation', 'HeatingQC', 'CentralAir', 'KitchenQual',\n",
        "                          'GarageType', 'GarageFinish', 'PavedDrive', 'SaleCondition']\n",
        "\n",
        "# Keep only those that exist in our data\n",
        "categorical_to_encode = [col for col in important_categoricals if col in categorical_cols]\n",
        "\n",
        "# Create dummy variables\n",
        "datam = pd.get_dummies(datan, columns=categorical_to_encode, drop_first=True)\n",
        "\n",
        "print(f\"Shape after one-hot encoding: {datam.shape}\")\n",
        "print(f\"Encoded categorical columns: {categorical_to_encode}\")\n",
        "datam.head()"
      ]
    },
    {
      "cell_type": "code",
      "execution_count": null,
      "metadata": {
        "colab": {
          "base_uri": "https://localhost:8080/",
          "height": 261
        },
        "id": "tt02nSd0nER_",
        "outputId": "42d7f3fb-199b-4b2c-af65-e8bdcd70e561"
      },
      "outputs": [],
      "source": [
        "datam.head()"
      ]
    },
    {
      "cell_type": "code",
      "execution_count": null,
      "metadata": {
        "colab": {
          "base_uri": "https://localhost:8080/",
          "height": 226
        },
        "id": "IBGIrwr0niwj",
        "outputId": "8f2b48ae-8eca-4e98-b576-01d546277966"
      },
      "outputs": [],
      "source": [
        "# Using LabelEncoder to transform remaining categorical variables to numeric variables\n",
        "\n",
        "from sklearn.preprocessing import LabelEncoder\n",
        "\n",
        "# Separate features and target\n",
        "X = datam.drop(columns=['SalePrice'], axis=1)\n",
        "y = datam['SalePrice']\n",
        "\n",
        "# Find remaining categorical columns (those not one-hot encoded)\n",
        "cat_f = X.select_dtypes(include='object').columns\n",
        "print(f\"Remaining categorical columns to encode: {list(cat_f)}\")\n",
        "\n",
        "# Encode remaining categorical features\n",
        "X_encoded = X.copy()\n",
        "label_encoders = {}\n",
        "for col in cat_f:\n",
        "    le = LabelEncoder()\n",
        "    X_encoded[col] = le.fit_transform(X_encoded[col])\n",
        "    label_encoders[col] = le\n",
        "\n",
        "print(f\"\\nFinal feature shape: {X_encoded.shape}\")\n",
        "print(f\"Target variable shape: {y.shape}\")\n",
        "X_encoded.head()"
      ]
    },
    {
      "cell_type": "code",
      "execution_count": null,
      "metadata": {
        "colab": {
          "base_uri": "https://localhost:8080/"
        },
        "id": "5-cuuordoCFb",
        "outputId": "5b024b49-f979-4e59-8a9b-dd4c6a8a2c57"
      },
      "outputs": [],
      "source": [
        "from sklearn.feature_selection import SelectKBest, mutual_info_regression\n",
        "\n",
        "# Calculate mutual information scores for all features\n",
        "selector = SelectKBest(score_func=mutual_info_regression, k='all')\n",
        "selector.fit(X_encoded, y)\n",
        "\n",
        "mi_scores = pd.DataFrame({\n",
        "    'Feature': X_encoded.columns,\n",
        "    'MI Score': selector.scores_\n",
        "}).sort_values(by='MI Score', ascending=False)\n",
        "\n",
        "print(\"Top 20 Features by Mutual Information Score:\")\n",
        "print(mi_scores.head(20))"
      ]
    },
    {
      "cell_type": "code",
      "execution_count": null,
      "metadata": {
        "colab": {
          "base_uri": "https://localhost:8080/",
          "height": 380
        },
        "id": "4qGaGyDcN3FT",
        "outputId": "44ec40e1-9859-413e-f14c-e75e0f41e24a"
      },
      "outputs": [],
      "source": [
        "from sklearn.feature_selection import f_regression\n",
        "\n",
        "# Apply f_regression\n",
        "f_selector = SelectKBest(score_func=f_regression, k='all')\n",
        "f_selector.fit(X_encoded, y)\n",
        "\n",
        "# Collect scores\n",
        "f_scores = pd.DataFrame({\n",
        "    'Feature': X_encoded.columns,\n",
        "    'F_Score': f_selector.scores_,\n",
        "    'p_value': f_selector.pvalues_\n",
        "}).sort_values(by='F_Score', ascending=False)\n",
        "\n",
        "print(\"Top 20 Features by F-Score (Linear Relation with SalePrice):\")\n",
        "print(f_scores.head(20))"
      ]
    },
    {
      "cell_type": "code",
      "execution_count": null,
      "metadata": {
        "colab": {
          "base_uri": "https://localhost:8080/"
        },
        "id": "xf3nSDFIJ18Q",
        "outputId": "17a11ddd-89df-4a0b-a37a-9217c7dfcd04"
      },
      "outputs": [],
      "source": [
        "# Train Random Forest model to get feature importance\n",
        "from sklearn.ensemble import RandomForestRegressor\n",
        "\n",
        "rf = RandomForestRegressor(n_estimators=100, random_state=42, n_jobs=-1)\n",
        "rf.fit(X_encoded, y)\n",
        "\n",
        "# Get feature importance\n",
        "importances = pd.Series(rf.feature_importances_, index=X_encoded.columns)\n",
        "top_features = importances.sort_values(ascending=False).head(20)\n",
        "\n",
        "print(\"Top 20 Features by Random Forest Importance:\")\n",
        "print(top_features)\n",
        "\n",
        "# Visualize top features\n",
        "plt.figure(figsize=(10, 8))\n",
        "top_features.plot(kind='barh')\n",
        "plt.xlabel('Feature Importance')\n",
        "plt.title('Top 20 Most Important Features')\n",
        "plt.gca().invert_yaxis()\n",
        "plt.tight_layout()\n",
        "plt.show()"
      ]
    }
  ],
  "metadata": {
    "colab": {
      "provenance": []
    },
    "kernelspec": {
      "display_name": "Python 3",
      "name": "python3"
    },
    "language_info": {
      "name": "python",
      "version": "3.13.4"
    }
  },
  "nbformat": 4,
  "nbformat_minor": 0
}
